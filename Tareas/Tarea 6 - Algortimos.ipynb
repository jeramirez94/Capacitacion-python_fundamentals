{
 "cells": [
  {
   "cell_type": "code",
   "execution_count": 3,
   "id": "fab564ec",
   "metadata": {},
   "outputs": [],
   "source": [
    "#Pasatiempo Jugar videojuegos\n",
    "   # 1. Encender la TV\n",
    "   # 2. Encender la consola de videojuegos\n",
    "   # 3. Revisar si mis amigos están conectados\n",
    "   # 4. Si están conectados, invitarlos a jugar un videojuego online\n",
    "   # 5. Si no están conectados, jugar un videojuego offline\n",
    "   # 6. Pasar el tiempo jugando"
   ]
  },
  {
   "cell_type": "code",
   "execution_count": null,
   "id": "1d9594e4",
   "metadata": {},
   "outputs": [],
   "source": []
  }
 ],
 "metadata": {
  "kernelspec": {
   "display_name": "Python 3",
   "language": "python",
   "name": "python3"
  },
  "language_info": {
   "codemirror_mode": {
    "name": "ipython",
    "version": 3
   },
   "file_extension": ".py",
   "mimetype": "text/x-python",
   "name": "python",
   "nbconvert_exporter": "python",
   "pygments_lexer": "ipython3",
   "version": "3.6.13"
  }
 },
 "nbformat": 4,
 "nbformat_minor": 5
}
