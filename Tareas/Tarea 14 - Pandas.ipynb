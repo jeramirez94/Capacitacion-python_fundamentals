{
 "cells": [
  {
   "cell_type": "code",
   "execution_count": 1,
   "id": "656df450",
   "metadata": {},
   "outputs": [],
   "source": [
    "import pandas as pd\n",
    "import numpy as np"
   ]
  },
  {
   "cell_type": "code",
   "execution_count": 2,
   "id": "a4035dec",
   "metadata": {},
   "outputs": [],
   "source": [
    "diccionario = {\n",
    "    \"name\":[\"Kevin\",\"Jorge\",\"Carlos\",\"Ochoa\",\"Rosy\"],\n",
    "    \"age\":[20,25,22,28,34],\n",
    "    \"salary\":[20000,21000,22000,24000,25000],\n",
    "    \"gender\":[\"M\",\"M\",\"M\",\"M\",\"F\"]\n",
    "}"
   ]
  },
  {
   "cell_type": "code",
   "execution_count": 3,
   "id": "2907fad3",
   "metadata": {},
   "outputs": [],
   "source": [
    "data = pd.DataFrame(diccionario)"
   ]
  },
  {
   "cell_type": "code",
   "execution_count": 4,
   "id": "7cd745d8",
   "metadata": {},
   "outputs": [
    {
     "name": "stdout",
     "output_type": "stream",
     "text": [
      "El salario más alto es 25000, el salario más bajo es 20000, la diferencia entre ambos es 5000\n"
     ]
    }
   ],
   "source": [
    "maximo = data[\"salary\"].max()\n",
    "minimo = data[\"salary\"].min()\n",
    "diferencia = data[\"salary\"].max() - data[\"salary\"].min()\n",
    "print(\"El salario más alto es {0}, el salario más bajo es {1}, la diferencia entre ambos es {2}\".format(maximo, minimo, diferencia))"
   ]
  },
  {
   "cell_type": "code",
   "execution_count": null,
   "id": "3e9e28c3",
   "metadata": {},
   "outputs": [],
   "source": []
  }
 ],
 "metadata": {
  "kernelspec": {
   "display_name": "Python 3",
   "language": "python",
   "name": "python3"
  },
  "language_info": {
   "codemirror_mode": {
    "name": "ipython",
    "version": 3
   },
   "file_extension": ".py",
   "mimetype": "text/x-python",
   "name": "python",
   "nbconvert_exporter": "python",
   "pygments_lexer": "ipython3",
   "version": "3.6.13"
  }
 },
 "nbformat": 4,
 "nbformat_minor": 5
}
