{
 "cells": [
  {
   "cell_type": "code",
   "execution_count": 20,
   "id": "33236b9f",
   "metadata": {},
   "outputs": [],
   "source": [
    "from math import sqrt\n",
    "class calculadora:\n",
    "    def __init__(self, numero1, numero2):\n",
    "        self.numero1 = float(numero1)\n",
    "        self.numero2 = float(numero2)\n",
    "    def sumar(self):\n",
    "        resultado = self.numero1 + self.numero2\n",
    "        print(\"El resultado de {0}+{1} es {2}\".format(self.numero1,self.numero2,resultado))\n",
    "    def restar(self):\n",
    "        resultado = self.numero1 - self.numero2\n",
    "        print(\"El resultado de {0}-{1} es {2}\".format(self.numero1,self.numero2,resultado))\n",
    "    def multiplicar(self):\n",
    "        resultado = self.numero1 * self.numero2\n",
    "        print(\"El resultado de {0}*{1} es {2}\".format(self.numero1,self.numero2,resultado))\n",
    "    def dividir(self):\n",
    "        resultado = self.numero1 / self.numero2\n",
    "        print(\"El resultado de {0}/{1} es {2}\".format(self.numero1,self.numero2,resultado))\n",
    "    def raiz(self):\n",
    "        resultado1 = sqrt(self.numero1)\n",
    "        resultado2 = sqrt(self.numero2)\n",
    "        print(\"La raíz de {0} es {1} y la receta de {2} es {3}\".format(self.numero1,resultado1, self.numero2,resultado2))\n",
    "    def potencia(self):\n",
    "        resultado = self.numero1 ** self.numero2\n",
    "        print(\"El resultado de {0}^{1} es {2}\".format(self.numero1,self.numero2,resultado))"
   ]
  },
  {
   "cell_type": "code",
   "execution_count": 21,
   "id": "8b13af56",
   "metadata": {},
   "outputs": [
    {
     "name": "stdout",
     "output_type": "stream",
     "text": [
      "Ingrese el primer número: 9\n",
      "Ingrese el segundo número: 4\n",
      "El resultado de 9.0+4.0 es 13.0\n",
      "El resultado de 9.0-4.0 es 5.0\n",
      "El resultado de 9.0/4.0 es 2.25\n",
      "El resultado de 9.0*4.0 es 36.0\n",
      "La raíz de 9.0 es 3.0 y la receta de 4.0 es 2.0\n",
      "El resultado de 9.0^4.0 es 6561.0\n"
     ]
    }
   ],
   "source": [
    "numero1 = input(\"Ingrese el primer número: \")\n",
    "numero2 = input(\"Ingrese el segundo número: \")\n",
    "calculadora = calculadora(numero1,numero2)\n",
    "calculadora.sumar()\n",
    "calculadora.restar()\n",
    "calculadora.dividir()\n",
    "calculadora.multiplicar()\n",
    "calculadora.raiz()\n",
    "calculadora.potencia()"
   ]
  },
  {
   "cell_type": "code",
   "execution_count": null,
   "id": "76aa6417",
   "metadata": {},
   "outputs": [],
   "source": []
  }
 ],
 "metadata": {
  "kernelspec": {
   "display_name": "Python 3",
   "language": "python",
   "name": "python3"
  },
  "language_info": {
   "codemirror_mode": {
    "name": "ipython",
    "version": 3
   },
   "file_extension": ".py",
   "mimetype": "text/x-python",
   "name": "python",
   "nbconvert_exporter": "python",
   "pygments_lexer": "ipython3",
   "version": "3.6.13"
  }
 },
 "nbformat": 4,
 "nbformat_minor": 5
}
