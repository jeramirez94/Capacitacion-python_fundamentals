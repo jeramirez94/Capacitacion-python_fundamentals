{
 "cells": [
  {
   "cell_type": "code",
   "execution_count": 1,
   "id": "945cfbab",
   "metadata": {},
   "outputs": [
    {
     "name": "stdout",
     "output_type": "stream",
     "text": [
      "Por favor, escriba su edad: 22\n",
      "Eres mayor de edad\n"
     ]
    }
   ],
   "source": [
    "edad=int(input(\"Por favor, escriba su edad: \"))\n",
    "if edad >=18:\n",
    "    print(\"Eres mayor de edad\")\n",
    "elif edad < 18:\n",
    "    print(\"Eres menor de edad\")"
   ]
  },
  {
   "cell_type": "code",
   "execution_count": null,
   "id": "5e6d0a6a",
   "metadata": {},
   "outputs": [],
   "source": []
  }
 ],
 "metadata": {
  "kernelspec": {
   "display_name": "Python 3",
   "language": "python",
   "name": "python3"
  },
  "language_info": {
   "codemirror_mode": {
    "name": "ipython",
    "version": 3
   },
   "file_extension": ".py",
   "mimetype": "text/x-python",
   "name": "python",
   "nbconvert_exporter": "python",
   "pygments_lexer": "ipython3",
   "version": "3.6.13"
  }
 },
 "nbformat": 4,
 "nbformat_minor": 5
}
