{
 "cells": [
  {
   "cell_type": "code",
   "execution_count": 7,
   "id": "7941719c",
   "metadata": {},
   "outputs": [],
   "source": [
    "rango = [3]"
   ]
  },
  {
   "cell_type": "code",
   "execution_count": 8,
   "id": "6fe38aa2",
   "metadata": {},
   "outputs": [],
   "source": [
    "rango.extend(range(4,28))"
   ]
  },
  {
   "cell_type": "code",
   "execution_count": 9,
   "id": "c18bcc05",
   "metadata": {},
   "outputs": [],
   "source": [
    "import numpy as np"
   ]
  },
  {
   "cell_type": "code",
   "execution_count": 10,
   "id": "0cc4a16a",
   "metadata": {},
   "outputs": [
    {
     "data": {
      "text/plain": [
       "list"
      ]
     },
     "execution_count": 10,
     "metadata": {},
     "output_type": "execute_result"
    }
   ],
   "source": [
    "type(rango)"
   ]
  },
  {
   "cell_type": "code",
   "execution_count": 11,
   "id": "8b8020c4",
   "metadata": {},
   "outputs": [
    {
     "data": {
      "text/plain": [
       "array([ 3,  4,  5,  6,  7,  8,  9, 10, 11, 12, 13, 14, 15, 16, 17, 18, 19,\n",
       "       20, 21, 22, 23, 24, 25, 26, 27])"
      ]
     },
     "execution_count": 11,
     "metadata": {},
     "output_type": "execute_result"
    }
   ],
   "source": [
    "np.array(rango)"
   ]
  },
  {
   "cell_type": "code",
   "execution_count": 24,
   "id": "56500924",
   "metadata": {},
   "outputs": [],
   "source": [
    "arreglo = np.array(rango)"
   ]
  },
  {
   "cell_type": "code",
   "execution_count": 25,
   "id": "2685af08",
   "metadata": {},
   "outputs": [
    {
     "data": {
      "text/plain": [
       "array([ 3,  4,  5,  6,  7,  8,  9, 10, 11, 12, 13, 14, 15, 16, 17, 18, 19,\n",
       "       20, 21, 22, 23, 24, 25, 26, 27])"
      ]
     },
     "execution_count": 25,
     "metadata": {},
     "output_type": "execute_result"
    }
   ],
   "source": [
    "arreglo"
   ]
  },
  {
   "cell_type": "code",
   "execution_count": 26,
   "id": "48a38587",
   "metadata": {},
   "outputs": [],
   "source": [
    "arreglo2 = np.array([0, 1, 2, 3, 4, 0, 1, 2, 3, 4])"
   ]
  },
  {
   "cell_type": "code",
   "execution_count": 27,
   "id": "1cda366e",
   "metadata": {},
   "outputs": [],
   "source": [
    "arreglo2.sort()"
   ]
  },
  {
   "cell_type": "code",
   "execution_count": 28,
   "id": "8f97bfb8",
   "metadata": {},
   "outputs": [
    {
     "data": {
      "text/plain": [
       "array([0, 0, 1, 1, 2, 2, 3, 3, 4, 4])"
      ]
     },
     "execution_count": 28,
     "metadata": {},
     "output_type": "execute_result"
    }
   ],
   "source": [
    "arreglo2"
   ]
  },
  {
   "cell_type": "code",
   "execution_count": null,
   "id": "868124e5",
   "metadata": {},
   "outputs": [],
   "source": []
  }
 ],
 "metadata": {
  "kernelspec": {
   "display_name": "Python 3",
   "language": "python",
   "name": "python3"
  },
  "language_info": {
   "codemirror_mode": {
    "name": "ipython",
    "version": 3
   },
   "file_extension": ".py",
   "mimetype": "text/x-python",
   "name": "python",
   "nbconvert_exporter": "python",
   "pygments_lexer": "ipython3",
   "version": "3.6.13"
  }
 },
 "nbformat": 4,
 "nbformat_minor": 5
}
