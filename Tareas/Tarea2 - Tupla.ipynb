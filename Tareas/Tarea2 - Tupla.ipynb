{
 "cells": [
  {
   "cell_type": "code",
   "execution_count": 2,
   "id": "6b59626e",
   "metadata": {},
   "outputs": [],
   "source": [
    "tupla = ('jesus','eduardo',1,5.2,7)"
   ]
  },
  {
   "cell_type": "code",
   "execution_count": 3,
   "id": "4df52fa9",
   "metadata": {},
   "outputs": [
    {
     "data": {
      "text/plain": [
       "tuple"
      ]
     },
     "execution_count": 3,
     "metadata": {},
     "output_type": "execute_result"
    }
   ],
   "source": [
    "type(tupla)"
   ]
  },
  {
   "cell_type": "code",
   "execution_count": 4,
   "id": "a64fbe05",
   "metadata": {},
   "outputs": [
    {
     "data": {
      "text/plain": [
       "5"
      ]
     },
     "execution_count": 4,
     "metadata": {},
     "output_type": "execute_result"
    }
   ],
   "source": [
    "len(tupla)"
   ]
  },
  {
   "cell_type": "code",
   "execution_count": 5,
   "id": "0c0b0444",
   "metadata": {},
   "outputs": [],
   "source": [
    "lista = list(tupla)"
   ]
  },
  {
   "cell_type": "code",
   "execution_count": 6,
   "id": "178ec672",
   "metadata": {},
   "outputs": [
    {
     "data": {
      "text/plain": [
       "list"
      ]
     },
     "execution_count": 6,
     "metadata": {},
     "output_type": "execute_result"
    }
   ],
   "source": [
    "type(lista)"
   ]
  },
  {
   "cell_type": "code",
   "execution_count": 7,
   "id": "0ccecfd9",
   "metadata": {},
   "outputs": [
    {
     "data": {
      "text/plain": [
       "['jesus', 'eduardo', 1, 5.2, 7]"
      ]
     },
     "execution_count": 7,
     "metadata": {},
     "output_type": "execute_result"
    }
   ],
   "source": [
    "lista"
   ]
  },
  {
   "cell_type": "code",
   "execution_count": 8,
   "id": "a711a228",
   "metadata": {},
   "outputs": [
    {
     "data": {
      "text/plain": [
       "('jesus', 'eduardo', 1, 5.2, 7)"
      ]
     },
     "execution_count": 8,
     "metadata": {},
     "output_type": "execute_result"
    }
   ],
   "source": [
    "tupla"
   ]
  },
  {
   "cell_type": "code",
   "execution_count": 9,
   "id": "f19e93ab",
   "metadata": {},
   "outputs": [],
   "source": [
    "diccionario = {'1':'jesus','2':'eduardo','3':1,'4':5.2,'5':7}"
   ]
  },
  {
   "cell_type": "code",
   "execution_count": 10,
   "id": "b42e6861",
   "metadata": {},
   "outputs": [
    {
     "data": {
      "text/plain": [
       "{'1': 'jesus', '2': 'eduardo', '3': 1, '4': 5.2, '5': 7}"
      ]
     },
     "execution_count": 10,
     "metadata": {},
     "output_type": "execute_result"
    }
   ],
   "source": [
    "diccionario"
   ]
  },
  {
   "cell_type": "code",
   "execution_count": null,
   "id": "463b3424",
   "metadata": {},
   "outputs": [],
   "source": []
  }
 ],
 "metadata": {
  "kernelspec": {
   "display_name": "Python 3",
   "language": "python",
   "name": "python3"
  },
  "language_info": {
   "codemirror_mode": {
    "name": "ipython",
    "version": 3
   },
   "file_extension": ".py",
   "mimetype": "text/x-python",
   "name": "python",
   "nbconvert_exporter": "python",
   "pygments_lexer": "ipython3",
   "version": "3.6.13"
  }
 },
 "nbformat": 4,
 "nbformat_minor": 5
}
