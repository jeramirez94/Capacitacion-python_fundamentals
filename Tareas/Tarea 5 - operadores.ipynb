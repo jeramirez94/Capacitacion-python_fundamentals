{
 "cells": [
  {
   "cell_type": "code",
   "execution_count": 1,
   "id": "fc09193d",
   "metadata": {},
   "outputs": [],
   "source": [
    "#Jesús Eduardo Ramírez Ruíz\n"
   ]
  },
  {
   "cell_type": "code",
   "execution_count": 2,
   "id": "e2c95e8a",
   "metadata": {},
   "outputs": [],
   "source": [
    "mi_edad = 24/2"
   ]
  },
  {
   "cell_type": "code",
   "execution_count": 3,
   "id": "ee9d9ac2",
   "metadata": {},
   "outputs": [
    {
     "name": "stdout",
     "output_type": "stream",
     "text": [
      "El doble de mi edad es 24, entonces yo tengo:  12.0\n"
     ]
    }
   ],
   "source": [
    "print(\"El doble de mi edad es 24, entonces yo tengo: \", mi_edad)"
   ]
  },
  {
   "cell_type": "code",
   "execution_count": 4,
   "id": "dd09427f",
   "metadata": {},
   "outputs": [
    {
     "data": {
      "text/plain": [
       "63.0"
      ]
     },
     "execution_count": 4,
     "metadata": {},
     "output_type": "execute_result"
    }
   ],
   "source": [
    "#1/3 edad_de_mi_hemana - 15 = mi_edad\n",
    "mi_edad=6\n",
    "edad_de_mi_hermana = (mi_edad+15)/(1/3)\n",
    "edad_de_mi_hermana"
   ]
  },
  {
   "cell_type": "code",
   "execution_count": 5,
   "id": "43e4953b",
   "metadata": {},
   "outputs": [
    {
     "name": "stdout",
     "output_type": "stream",
     "text": [
      "¿soy mayor que mi hermana? False\n"
     ]
    }
   ],
   "source": [
    "verificacion = mi_edad > edad_de_mi_hermana\n",
    "print(\"¿soy mayor que mi hermana?\", verificacion)"
   ]
  },
  {
   "cell_type": "code",
   "execution_count": null,
   "id": "e98c1bda",
   "metadata": {},
   "outputs": [],
   "source": []
  }
 ],
 "metadata": {
  "kernelspec": {
   "display_name": "Python 3",
   "language": "python",
   "name": "python3"
  },
  "language_info": {
   "codemirror_mode": {
    "name": "ipython",
    "version": 3
   },
   "file_extension": ".py",
   "mimetype": "text/x-python",
   "name": "python",
   "nbconvert_exporter": "python",
   "pygments_lexer": "ipython3",
   "version": "3.6.13"
  }
 },
 "nbformat": 4,
 "nbformat_minor": 5
}
